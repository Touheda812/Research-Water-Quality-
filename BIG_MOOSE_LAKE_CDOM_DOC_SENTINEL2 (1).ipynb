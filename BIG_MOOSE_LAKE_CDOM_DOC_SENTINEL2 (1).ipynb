{
 "cells": [
  {
   "cell_type": "code",
   "execution_count": 135,
   "id": "9e0c11d3",
   "metadata": {},
   "outputs": [],
   "source": [
    "#pip install ee"
   ]
  },
  {
   "cell_type": "code",
   "execution_count": 136,
   "id": "19cd54d7",
   "metadata": {},
   "outputs": [],
   "source": [
    "#pip install geemap"
   ]
  },
  {
   "cell_type": "code",
   "execution_count": 137,
   "id": "e87f7b80",
   "metadata": {},
   "outputs": [],
   "source": [
    "import ee\n",
    "import geemap\n",
    "import pandas as pd\n",
    "from matplotlib import pyplot\n",
    "from io import StringIO\n",
    "\n",
    "\n",
    "#ee.Authenticate()  # Only needed for the first time\n",
    "ee.Initialize()\n",
    "Map= geemap.Map()\n",
    "\n",
    "\n"
   ]
  },
  {
   "cell_type": "code",
   "execution_count": 168,
   "id": "13f5185c",
   "metadata": {},
   "outputs": [
    {
     "data": {
      "application/vnd.jupyter.widget-view+json": {
       "model_id": "91d84b9ce8d0459182e12c37296fa342",
       "version_major": 2,
       "version_minor": 0
      },
      "text/plain": [
       "Map(bottom=6112548.0, center=[43.83093869244275, -74.84826397158908], controls=(WidgetControl(options=['positi…"
      ]
     },
     "metadata": {},
     "output_type": "display_data"
    }
   ],
   "source": [
    "lake = ee.FeatureCollection('projects/ee-touheda-khanom/assets/samplinglakes') \\\n",
    "    .filter(ee.Filter.eq('GNIS_Name', 'Big Moose Lake'))\n",
    "\n",
    "\n",
    "Map.addLayer(lake)\n",
    "Map.centerObject(lake, 16)\n",
    "Map"
   ]
  },
  {
   "cell_type": "code",
   "execution_count": 169,
   "id": "da839cfb",
   "metadata": {},
   "outputs": [],
   "source": [
    "station = ee.Geometry.Point(-74.85423940003443,43.81880036802749)\n",
    "Map.addLayer(station)\n",
    "Map.centerObject(station, 16)\n"
   ]
  },
  {
   "cell_type": "code",
   "execution_count": 170,
   "id": "cb3f5206",
   "metadata": {},
   "outputs": [],
   "source": [
    "sentinel2_bands =['B1','B2','B3','B4','B5','B6','B8','B8A','B11']\n",
    "STD_NAMES = ['Aerosols', 'Blue', 'Green', 'Red', 'RedEdge1','RedEdge2','RedEdge4','NIR','SWIR1']\n",
    "\n",
    "# sentinel2_bands =['B1','B2','B3','B4']\n",
    "# STD_NAMES = ['Aerosols', 'Blue', 'Green', 'Red']"
   ]
  },
  {
   "cell_type": "code",
   "execution_count": 172,
   "id": "90e3c228",
   "metadata": {},
   "outputs": [],
   "source": [
    "def cdom(img):\n",
    "    cdo = img.expression(\"(20.3 - 10. * (b2 / b3) - 2.4 * (b3 / b4))\", {\n",
    "        'b1': img.select('Aerosols'),\n",
    "        'b2': img.select('Blue'),\n",
    "        'b3': img.select('Green'),\n",
    "        'b4': img.select('Red')\n",
    "    }).rename(\"CO\")\n",
    "\n",
    "    bad2 = cdo.where((cdo.gte(0)), 1).rename(\"bad2\")\n",
    "    co = cdo.multiply(bad2).rename(\"CO\")\n",
    "    mask = co.neq(0)\n",
    "\n",
    "    return img.updateMask(mask).clip(lake)\n"
   ]
  },
  {
   "cell_type": "code",
   "execution_count": 173,
   "id": "3c199c5e",
   "metadata": {},
   "outputs": [],
   "source": [
    "def maskS2clouds(image):\n",
    "    qa = image.select('QA60')\n",
    "    cloudBitMask = 1 << 10  # Bits 10 and 11 are clouds and cirrus, respectively.\n",
    "    cirrusBitMask = 1 << 11\n",
    "\n",
    "    # Both flags should be set to zero, indicating clear conditions.\n",
    "    maskedc = qa.bitwiseAnd(cloudBitMask).eq(0).And(qa.bitwiseAnd(cirrusBitMask).eq(0))\n",
    "\n",
    "    return image.updateMask(maskedc).divide(10000)\n",
    "    names = image.bandNames()\n",
    "#     return image.addBands(names,None, True).updateMask(maskedc).divide(10000)\n",
    "#add all bands \n",
    "\n",
    "s2 = ee.ImageCollection('COPERNICUS/S2_SR') \\\n",
    "    .filterBounds(lake) \\\n",
    "    .map(maskS2clouds) \\\n",
    "    .select(sentinel2_bands, STD_NAMES) \\\n",
    "    .map(cdom) \n",
    "     \n",
    "     \n",
    "\n",
    "\n",
    "s3 = ee.ImageCollection('COPERNICUS/S2_SR') \\\n",
    "    .filterBounds(lake) \\\n",
    "    .select(sentinel2_bands, STD_NAMES) \\\n",
    "    .filter(ee.Filter.lt('CLOUDY_PIXEL_PERCENTAGE',20)) \\\n",
    "    .map(cdom)"
   ]
  },
  {
   "cell_type": "code",
   "execution_count": 183,
   "id": "1165cdf9",
   "metadata": {},
   "outputs": [
    {
     "name": "stdout",
     "output_type": "stream",
     "text": [
      "Band Names: ['Aerosols', 'Blue', 'Green', 'Red', 'RedEdge1', 'RedEdge2', 'RedEdge4', 'NIR', 'SWIR1']\n"
     ]
    }
   ],
   "source": [
    " first_image = s2.first()  # Get the first image from the collection\n",
    "band_names = first_image.bandNames().getInfo()\n",
    "print(\"Band Names:\", band_names)"
   ]
  },
  {
   "cell_type": "code",
   "execution_count": 175,
   "id": "74bb0007",
   "metadata": {},
   "outputs": [
    {
     "name": "stdout",
     "output_type": "stream",
     "text": [
      "669\n"
     ]
    }
   ],
   "source": [
    "#How many images?\n",
    "print(s2.size().getInfo())\n"
   ]
  },
  {
   "cell_type": "code",
   "execution_count": 176,
   "id": "c57b7f10",
   "metadata": {},
   "outputs": [
    {
     "name": "stdout",
     "output_type": "stream",
     "text": [
      "['2019-03-27', '2019-04-16', '2019-06-15', '2019-07-10', '2019-07-10', '2019-07-25', '2019-08-04', '2019-08-14', '2019-08-14', '2019-09-13', '2019-09-18', '2019-09-18', '2019-10-08', '2019-10-08', '2019-10-13', '2019-10-13', '2019-10-28', '2020-03-01', '2020-03-01', '2020-03-16', '2020-04-25', '2020-05-05', '2020-05-05', '2020-05-20', '2020-05-20', '2020-06-04', '2020-06-09', '2020-06-09', '2020-06-19', '2020-06-19', '2020-07-04', '2020-07-04', '2020-07-09', '2020-07-09', '2020-07-19', '2020-07-19', '2020-07-24', '2020-07-24', '2020-08-23', '2020-08-23', '2020-09-12', '2020-09-12', '2020-09-22', '2020-09-22', '2020-10-17', '2020-10-17', '2020-11-06', '2020-11-21', '2021-02-04', '2021-03-21', '2021-03-21', '2021-04-05', '2021-04-05', '2021-04-10', '2021-04-10', '2021-06-19', '2021-06-24', '2021-06-24', '2021-07-19', '2021-08-03', '2021-10-12', '2021-11-06', '2021-11-06', '2021-11-21', '2022-01-20', '2022-02-09', '2022-03-06', '2022-03-16', '2022-03-21', '2022-04-30', '2022-04-30', '2022-05-10', '2022-05-10', '2022-05-30', '2022-05-30', '2022-06-04', '2022-06-04', '2022-06-19', '2022-06-19', '2022-07-04', '2022-07-09', '2022-07-09', '2022-08-13', '2022-08-28', '2022-08-28', '2022-09-02', '2022-09-02', '2022-10-22', '2022-10-22', '2022-11-26', '2023-01-15', '2023-02-14', '2023-04-10', '2023-04-10', '2023-04-20', '2023-05-10', '2023-05-10', '2023-05-15', '2023-05-30', '2023-05-30', '2023-06-04']\n"
     ]
    }
   ],
   "source": [
    "dates = s3.aggregate_array(\"system:time_start\").getInfo()\n",
    "#print(dates)\n",
    "import datetime\n",
    "\n",
    "dates = [datetime.datetime.fromtimestamp(int(date) / 1000).strftime('%Y-%m-%d') for date in dates]\n",
    "print(dates)\n"
   ]
  },
  {
   "cell_type": "code",
   "execution_count": 177,
   "id": "d8a1634d",
   "metadata": {},
   "outputs": [
    {
     "ename": "EEException",
     "evalue": "Collection.reduceColumns: Error in map(ID=20190327T154901_20190327T155313_T18TVP):\nDictionary.get: Dictionary does not contain key: CO.",
     "output_type": "error",
     "traceback": [
      "\u001b[0;31m---------------------------------------------------------------------------\u001b[0m",
      "\u001b[0;31mHttpError\u001b[0m                                 Traceback (most recent call last)",
      "File \u001b[0;32m~/anaconda3/lib/python3.10/site-packages/ee/data.py:345\u001b[0m, in \u001b[0;36m_execute_cloud_call\u001b[0;34m(call, num_retries)\u001b[0m\n\u001b[1;32m    344\u001b[0m \u001b[38;5;28;01mtry\u001b[39;00m:\n\u001b[0;32m--> 345\u001b[0m   \u001b[38;5;28;01mreturn\u001b[39;00m \u001b[43mcall\u001b[49m\u001b[38;5;241;43m.\u001b[39;49m\u001b[43mexecute\u001b[49m\u001b[43m(\u001b[49m\u001b[43mnum_retries\u001b[49m\u001b[38;5;241;43m=\u001b[39;49m\u001b[43mnum_retries\u001b[49m\u001b[43m)\u001b[49m\n\u001b[1;32m    346\u001b[0m \u001b[38;5;28;01mexcept\u001b[39;00m googleapiclient\u001b[38;5;241m.\u001b[39merrors\u001b[38;5;241m.\u001b[39mHttpError \u001b[38;5;28;01mas\u001b[39;00m e:\n",
      "File \u001b[0;32m~/anaconda3/lib/python3.10/site-packages/googleapiclient/_helpers.py:130\u001b[0m, in \u001b[0;36mpositional.<locals>.positional_decorator.<locals>.positional_wrapper\u001b[0;34m(*args, **kwargs)\u001b[0m\n\u001b[1;32m    129\u001b[0m         logger\u001b[38;5;241m.\u001b[39mwarning(message)\n\u001b[0;32m--> 130\u001b[0m \u001b[38;5;28;01mreturn\u001b[39;00m \u001b[43mwrapped\u001b[49m\u001b[43m(\u001b[49m\u001b[38;5;241;43m*\u001b[39;49m\u001b[43margs\u001b[49m\u001b[43m,\u001b[49m\u001b[43m \u001b[49m\u001b[38;5;241;43m*\u001b[39;49m\u001b[38;5;241;43m*\u001b[39;49m\u001b[43mkwargs\u001b[49m\u001b[43m)\u001b[49m\n",
      "File \u001b[0;32m~/anaconda3/lib/python3.10/site-packages/googleapiclient/http.py:938\u001b[0m, in \u001b[0;36mHttpRequest.execute\u001b[0;34m(self, http, num_retries)\u001b[0m\n\u001b[1;32m    937\u001b[0m \u001b[38;5;28;01mif\u001b[39;00m resp\u001b[38;5;241m.\u001b[39mstatus \u001b[38;5;241m>\u001b[39m\u001b[38;5;241m=\u001b[39m \u001b[38;5;241m300\u001b[39m:\n\u001b[0;32m--> 938\u001b[0m     \u001b[38;5;28;01mraise\u001b[39;00m HttpError(resp, content, uri\u001b[38;5;241m=\u001b[39m\u001b[38;5;28mself\u001b[39m\u001b[38;5;241m.\u001b[39muri)\n\u001b[1;32m    939\u001b[0m \u001b[38;5;28;01mreturn\u001b[39;00m \u001b[38;5;28mself\u001b[39m\u001b[38;5;241m.\u001b[39mpostproc(resp, content)\n",
      "\u001b[0;31mHttpError\u001b[0m: <HttpError 400 when requesting https://earthengine.googleapis.com/v1alpha/projects/earthengine-legacy/value:compute?prettyPrint=false&alt=json returned \"Collection.reduceColumns: Error in map(ID=20190327T154901_20190327T155313_T18TVP):\nDictionary.get: Dictionary does not contain key: CO.\". Details: \"Collection.reduceColumns: Error in map(ID=20190327T154901_20190327T155313_T18TVP):\nDictionary.get: Dictionary does not contain key: CO.\">",
      "\nDuring handling of the above exception, another exception occurred:\n",
      "\u001b[0;31mEEException\u001b[0m                               Traceback (most recent call last)",
      "Cell \u001b[0;32mIn[177], line 13\u001b[0m\n\u001b[1;32m     10\u001b[0m nested_list_date \u001b[38;5;241m=\u001b[39m station_reduced_imgs\u001b[38;5;241m.\u001b[39maggregate_array(\u001b[38;5;124m'\u001b[39m\u001b[38;5;124mdate\u001b[39m\u001b[38;5;124m'\u001b[39m)\n\u001b[1;32m     11\u001b[0m nested_list_cdom \u001b[38;5;241m=\u001b[39m station_reduced_imgs\u001b[38;5;241m.\u001b[39maggregate_array(\u001b[38;5;124m'\u001b[39m\u001b[38;5;124mCDOM\u001b[39m\u001b[38;5;124m'\u001b[39m)\n\u001b[0;32m---> 13\u001b[0m date_list \u001b[38;5;241m=\u001b[39m \u001b[43mnested_list_date\u001b[49m\u001b[38;5;241;43m.\u001b[39;49m\u001b[43mgetInfo\u001b[49m\u001b[43m(\u001b[49m\u001b[43m)\u001b[49m\n\u001b[1;32m     14\u001b[0m cdom_list \u001b[38;5;241m=\u001b[39m nested_list_cdom\u001b[38;5;241m.\u001b[39mgetInfo()\n\u001b[1;32m     16\u001b[0m \u001b[38;5;66;03m# Convert dates to datetime objects\u001b[39;00m\n",
      "File \u001b[0;32m~/anaconda3/lib/python3.10/site-packages/ee/computedobject.py:96\u001b[0m, in \u001b[0;36mComputedObject.getInfo\u001b[0;34m(self)\u001b[0m\n\u001b[1;32m     90\u001b[0m \u001b[38;5;28;01mdef\u001b[39;00m \u001b[38;5;21mgetInfo\u001b[39m(\u001b[38;5;28mself\u001b[39m):\n\u001b[1;32m     91\u001b[0m   \u001b[38;5;124;03m\"\"\"Fetch and return information about this object.\u001b[39;00m\n\u001b[1;32m     92\u001b[0m \n\u001b[1;32m     93\u001b[0m \u001b[38;5;124;03m  Returns:\u001b[39;00m\n\u001b[1;32m     94\u001b[0m \u001b[38;5;124;03m    The object can evaluate to anything.\u001b[39;00m\n\u001b[1;32m     95\u001b[0m \u001b[38;5;124;03m  \"\"\"\u001b[39;00m\n\u001b[0;32m---> 96\u001b[0m   \u001b[38;5;28;01mreturn\u001b[39;00m \u001b[43mdata\u001b[49m\u001b[38;5;241;43m.\u001b[39;49m\u001b[43mcomputeValue\u001b[49m\u001b[43m(\u001b[49m\u001b[38;5;28;43mself\u001b[39;49m\u001b[43m)\u001b[49m\n",
      "File \u001b[0;32m~/anaconda3/lib/python3.10/site-packages/ee/data.py:954\u001b[0m, in \u001b[0;36mcomputeValue\u001b[0;34m(obj)\u001b[0m\n\u001b[1;32m    951\u001b[0m body \u001b[38;5;241m=\u001b[39m {\u001b[38;5;124m'\u001b[39m\u001b[38;5;124mexpression\u001b[39m\u001b[38;5;124m'\u001b[39m: serializer\u001b[38;5;241m.\u001b[39mencode(obj, for_cloud_api\u001b[38;5;241m=\u001b[39m\u001b[38;5;28;01mTrue\u001b[39;00m)}\n\u001b[1;32m    952\u001b[0m _maybe_populate_workload_tag(body)\n\u001b[0;32m--> 954\u001b[0m \u001b[38;5;28;01mreturn\u001b[39;00m \u001b[43m_execute_cloud_call\u001b[49m\u001b[43m(\u001b[49m\n\u001b[1;32m    955\u001b[0m \u001b[43m    \u001b[49m\u001b[43m_get_cloud_projects\u001b[49m\u001b[43m(\u001b[49m\u001b[43m)\u001b[49m\n\u001b[1;32m    956\u001b[0m \u001b[43m    \u001b[49m\u001b[38;5;241;43m.\u001b[39;49m\u001b[43mvalue\u001b[49m\u001b[43m(\u001b[49m\u001b[43m)\u001b[49m\n\u001b[1;32m    957\u001b[0m \u001b[43m    \u001b[49m\u001b[38;5;241;43m.\u001b[39;49m\u001b[43mcompute\u001b[49m\u001b[43m(\u001b[49m\u001b[43mbody\u001b[49m\u001b[38;5;241;43m=\u001b[39;49m\u001b[43mbody\u001b[49m\u001b[43m,\u001b[49m\u001b[43m \u001b[49m\u001b[43mproject\u001b[49m\u001b[38;5;241;43m=\u001b[39;49m\u001b[43m_get_projects_path\u001b[49m\u001b[43m(\u001b[49m\u001b[43m)\u001b[49m\u001b[43m,\u001b[49m\u001b[43m \u001b[49m\u001b[43mprettyPrint\u001b[49m\u001b[38;5;241;43m=\u001b[39;49m\u001b[38;5;28;43;01mFalse\u001b[39;49;00m\u001b[43m)\u001b[49m\n\u001b[1;32m    958\u001b[0m \u001b[43m\u001b[49m\u001b[43m)\u001b[49m[\u001b[38;5;124m'\u001b[39m\u001b[38;5;124mresult\u001b[39m\u001b[38;5;124m'\u001b[39m]\n",
      "File \u001b[0;32m~/anaconda3/lib/python3.10/site-packages/ee/data.py:347\u001b[0m, in \u001b[0;36m_execute_cloud_call\u001b[0;34m(call, num_retries)\u001b[0m\n\u001b[1;32m    345\u001b[0m   \u001b[38;5;28;01mreturn\u001b[39;00m call\u001b[38;5;241m.\u001b[39mexecute(num_retries\u001b[38;5;241m=\u001b[39mnum_retries)\n\u001b[1;32m    346\u001b[0m \u001b[38;5;28;01mexcept\u001b[39;00m googleapiclient\u001b[38;5;241m.\u001b[39merrors\u001b[38;5;241m.\u001b[39mHttpError \u001b[38;5;28;01mas\u001b[39;00m e:\n\u001b[0;32m--> 347\u001b[0m   \u001b[38;5;28;01mraise\u001b[39;00m _translate_cloud_exception(e)\n",
      "\u001b[0;31mEEException\u001b[0m: Collection.reduceColumns: Error in map(ID=20190327T154901_20190327T155313_T18TVP):\nDictionary.get: Dictionary does not contain key: CO."
     ]
    }
   ],
   "source": [
    "import pandas as pd\n",
    "import datetime\n",
    "\n",
    "def station_mean(img):\n",
    "    mean = img.reduceRegion(reducer=ee.Reducer.mean(), geometry=lake, scale=30).get('CO')\n",
    "    date = ee.Date(img.get('system:time_start')).format('YYYY-MM-dd')\n",
    "    return img.set('CDOM', mean).set('date', date)\n",
    "\n",
    "station_reduced_imgs = s3.map(station_mean)\n",
    "nested_list_date = station_reduced_imgs.aggregate_array('date')\n",
    "nested_list_cdom = station_reduced_imgs.aggregate_array('CDOM')\n",
    "\n",
    "date_list = nested_list_date.getInfo()\n",
    "cdom_list = nested_list_cdom.getInfo()\n",
    "\n",
    "# Convert dates to datetime objects\n",
    "dates = [datetime.datetime.strptime(date, '%Y-%m-%d') for date in date_list]\n",
    "\n",
    "# Create DataFrame with 'date' and 'CDOM' columns\n",
    "df = pd.DataFrame({'date': dates, 'CDOM': cdom_list})\n",
    "df"
   ]
  },
  {
   "cell_type": "code",
   "execution_count": 178,
   "id": "69effbd2",
   "metadata": {},
   "outputs": [
    {
     "ename": "EEException",
     "evalue": "Collection.reduceColumns: Error in map(ID=20181217T155641_20181217T155849_T18TVP):\nDate: Parameter 'value' is required.",
     "output_type": "error",
     "traceback": [
      "\u001b[0;31m---------------------------------------------------------------------------\u001b[0m",
      "\u001b[0;31mHttpError\u001b[0m                                 Traceback (most recent call last)",
      "File \u001b[0;32m~/anaconda3/lib/python3.10/site-packages/ee/data.py:345\u001b[0m, in \u001b[0;36m_execute_cloud_call\u001b[0;34m(call, num_retries)\u001b[0m\n\u001b[1;32m    344\u001b[0m \u001b[38;5;28;01mtry\u001b[39;00m:\n\u001b[0;32m--> 345\u001b[0m   \u001b[38;5;28;01mreturn\u001b[39;00m \u001b[43mcall\u001b[49m\u001b[38;5;241;43m.\u001b[39;49m\u001b[43mexecute\u001b[49m\u001b[43m(\u001b[49m\u001b[43mnum_retries\u001b[49m\u001b[38;5;241;43m=\u001b[39;49m\u001b[43mnum_retries\u001b[49m\u001b[43m)\u001b[49m\n\u001b[1;32m    346\u001b[0m \u001b[38;5;28;01mexcept\u001b[39;00m googleapiclient\u001b[38;5;241m.\u001b[39merrors\u001b[38;5;241m.\u001b[39mHttpError \u001b[38;5;28;01mas\u001b[39;00m e:\n",
      "File \u001b[0;32m~/anaconda3/lib/python3.10/site-packages/googleapiclient/_helpers.py:130\u001b[0m, in \u001b[0;36mpositional.<locals>.positional_decorator.<locals>.positional_wrapper\u001b[0;34m(*args, **kwargs)\u001b[0m\n\u001b[1;32m    129\u001b[0m         logger\u001b[38;5;241m.\u001b[39mwarning(message)\n\u001b[0;32m--> 130\u001b[0m \u001b[38;5;28;01mreturn\u001b[39;00m \u001b[43mwrapped\u001b[49m\u001b[43m(\u001b[49m\u001b[38;5;241;43m*\u001b[39;49m\u001b[43margs\u001b[49m\u001b[43m,\u001b[49m\u001b[43m \u001b[49m\u001b[38;5;241;43m*\u001b[39;49m\u001b[38;5;241;43m*\u001b[39;49m\u001b[43mkwargs\u001b[49m\u001b[43m)\u001b[49m\n",
      "File \u001b[0;32m~/anaconda3/lib/python3.10/site-packages/googleapiclient/http.py:938\u001b[0m, in \u001b[0;36mHttpRequest.execute\u001b[0;34m(self, http, num_retries)\u001b[0m\n\u001b[1;32m    937\u001b[0m \u001b[38;5;28;01mif\u001b[39;00m resp\u001b[38;5;241m.\u001b[39mstatus \u001b[38;5;241m>\u001b[39m\u001b[38;5;241m=\u001b[39m \u001b[38;5;241m300\u001b[39m:\n\u001b[0;32m--> 938\u001b[0m     \u001b[38;5;28;01mraise\u001b[39;00m HttpError(resp, content, uri\u001b[38;5;241m=\u001b[39m\u001b[38;5;28mself\u001b[39m\u001b[38;5;241m.\u001b[39muri)\n\u001b[1;32m    939\u001b[0m \u001b[38;5;28;01mreturn\u001b[39;00m \u001b[38;5;28mself\u001b[39m\u001b[38;5;241m.\u001b[39mpostproc(resp, content)\n",
      "\u001b[0;31mHttpError\u001b[0m: <HttpError 400 when requesting https://earthengine.googleapis.com/v1alpha/projects/earthengine-legacy/value:compute?prettyPrint=false&alt=json returned \"Collection.reduceColumns: Error in map(ID=20181217T155641_20181217T155849_T18TVP):\nDate: Parameter 'value' is required.\". Details: \"Collection.reduceColumns: Error in map(ID=20181217T155641_20181217T155849_T18TVP):\nDate: Parameter 'value' is required.\">",
      "\nDuring handling of the above exception, another exception occurred:\n",
      "\u001b[0;31mEEException\u001b[0m                               Traceback (most recent call last)",
      "Cell \u001b[0;32mIn[178], line 13\u001b[0m\n\u001b[1;32m     10\u001b[0m nested_list_date \u001b[38;5;241m=\u001b[39m station_reduced_imgs\u001b[38;5;241m.\u001b[39maggregate_array(\u001b[38;5;124m'\u001b[39m\u001b[38;5;124mdate\u001b[39m\u001b[38;5;124m'\u001b[39m)\n\u001b[1;32m     11\u001b[0m nested_list_cdom \u001b[38;5;241m=\u001b[39m station_reduced_imgs\u001b[38;5;241m.\u001b[39maggregate_array(\u001b[38;5;124m'\u001b[39m\u001b[38;5;124mCDOM\u001b[39m\u001b[38;5;124m'\u001b[39m)\n\u001b[0;32m---> 13\u001b[0m date_list \u001b[38;5;241m=\u001b[39m \u001b[43mnested_list_date\u001b[49m\u001b[38;5;241;43m.\u001b[39;49m\u001b[43mgetInfo\u001b[49m\u001b[43m(\u001b[49m\u001b[43m)\u001b[49m\n\u001b[1;32m     14\u001b[0m cdom_list \u001b[38;5;241m=\u001b[39m nested_list_cdom\u001b[38;5;241m.\u001b[39mgetInfo()\n\u001b[1;32m     16\u001b[0m \u001b[38;5;66;03m# Convert dates to datetime objects\u001b[39;00m\n",
      "File \u001b[0;32m~/anaconda3/lib/python3.10/site-packages/ee/computedobject.py:96\u001b[0m, in \u001b[0;36mComputedObject.getInfo\u001b[0;34m(self)\u001b[0m\n\u001b[1;32m     90\u001b[0m \u001b[38;5;28;01mdef\u001b[39;00m \u001b[38;5;21mgetInfo\u001b[39m(\u001b[38;5;28mself\u001b[39m):\n\u001b[1;32m     91\u001b[0m   \u001b[38;5;124;03m\"\"\"Fetch and return information about this object.\u001b[39;00m\n\u001b[1;32m     92\u001b[0m \n\u001b[1;32m     93\u001b[0m \u001b[38;5;124;03m  Returns:\u001b[39;00m\n\u001b[1;32m     94\u001b[0m \u001b[38;5;124;03m    The object can evaluate to anything.\u001b[39;00m\n\u001b[1;32m     95\u001b[0m \u001b[38;5;124;03m  \"\"\"\u001b[39;00m\n\u001b[0;32m---> 96\u001b[0m   \u001b[38;5;28;01mreturn\u001b[39;00m \u001b[43mdata\u001b[49m\u001b[38;5;241;43m.\u001b[39;49m\u001b[43mcomputeValue\u001b[49m\u001b[43m(\u001b[49m\u001b[38;5;28;43mself\u001b[39;49m\u001b[43m)\u001b[49m\n",
      "File \u001b[0;32m~/anaconda3/lib/python3.10/site-packages/ee/data.py:954\u001b[0m, in \u001b[0;36mcomputeValue\u001b[0;34m(obj)\u001b[0m\n\u001b[1;32m    951\u001b[0m body \u001b[38;5;241m=\u001b[39m {\u001b[38;5;124m'\u001b[39m\u001b[38;5;124mexpression\u001b[39m\u001b[38;5;124m'\u001b[39m: serializer\u001b[38;5;241m.\u001b[39mencode(obj, for_cloud_api\u001b[38;5;241m=\u001b[39m\u001b[38;5;28;01mTrue\u001b[39;00m)}\n\u001b[1;32m    952\u001b[0m _maybe_populate_workload_tag(body)\n\u001b[0;32m--> 954\u001b[0m \u001b[38;5;28;01mreturn\u001b[39;00m \u001b[43m_execute_cloud_call\u001b[49m\u001b[43m(\u001b[49m\n\u001b[1;32m    955\u001b[0m \u001b[43m    \u001b[49m\u001b[43m_get_cloud_projects\u001b[49m\u001b[43m(\u001b[49m\u001b[43m)\u001b[49m\n\u001b[1;32m    956\u001b[0m \u001b[43m    \u001b[49m\u001b[38;5;241;43m.\u001b[39;49m\u001b[43mvalue\u001b[49m\u001b[43m(\u001b[49m\u001b[43m)\u001b[49m\n\u001b[1;32m    957\u001b[0m \u001b[43m    \u001b[49m\u001b[38;5;241;43m.\u001b[39;49m\u001b[43mcompute\u001b[49m\u001b[43m(\u001b[49m\u001b[43mbody\u001b[49m\u001b[38;5;241;43m=\u001b[39;49m\u001b[43mbody\u001b[49m\u001b[43m,\u001b[49m\u001b[43m \u001b[49m\u001b[43mproject\u001b[49m\u001b[38;5;241;43m=\u001b[39;49m\u001b[43m_get_projects_path\u001b[49m\u001b[43m(\u001b[49m\u001b[43m)\u001b[49m\u001b[43m,\u001b[49m\u001b[43m \u001b[49m\u001b[43mprettyPrint\u001b[49m\u001b[38;5;241;43m=\u001b[39;49m\u001b[38;5;28;43;01mFalse\u001b[39;49;00m\u001b[43m)\u001b[49m\n\u001b[1;32m    958\u001b[0m \u001b[43m\u001b[49m\u001b[43m)\u001b[49m[\u001b[38;5;124m'\u001b[39m\u001b[38;5;124mresult\u001b[39m\u001b[38;5;124m'\u001b[39m]\n",
      "File \u001b[0;32m~/anaconda3/lib/python3.10/site-packages/ee/data.py:347\u001b[0m, in \u001b[0;36m_execute_cloud_call\u001b[0;34m(call, num_retries)\u001b[0m\n\u001b[1;32m    345\u001b[0m   \u001b[38;5;28;01mreturn\u001b[39;00m call\u001b[38;5;241m.\u001b[39mexecute(num_retries\u001b[38;5;241m=\u001b[39mnum_retries)\n\u001b[1;32m    346\u001b[0m \u001b[38;5;28;01mexcept\u001b[39;00m googleapiclient\u001b[38;5;241m.\u001b[39merrors\u001b[38;5;241m.\u001b[39mHttpError \u001b[38;5;28;01mas\u001b[39;00m e:\n\u001b[0;32m--> 347\u001b[0m   \u001b[38;5;28;01mraise\u001b[39;00m _translate_cloud_exception(e)\n",
      "\u001b[0;31mEEException\u001b[0m: Collection.reduceColumns: Error in map(ID=20181217T155641_20181217T155849_T18TVP):\nDate: Parameter 'value' is required."
     ]
    }
   ],
   "source": [
    "import pandas as pd\n",
    "import datetime\n",
    "\n",
    "def station_mean(img):\n",
    "    mean = img.reduceRegion(reducer=ee.Reducer.mean(), geometry=lake, scale=30).get('CO')\n",
    "    date = ee.Date(img.get('system:time_start')).format('YYYY-MM-dd')\n",
    "    return img.set('CDOM', mean).set('date', date)\n",
    "\n",
    "station_reduced_imgs = s2.map(station_mean)\n",
    "nested_list_date = station_reduced_imgs.aggregate_array('date')\n",
    "nested_list_cdom = station_reduced_imgs.aggregate_array('CDOM')\n",
    "\n",
    "date_list = nested_list_date.getInfo()\n",
    "cdom_list = nested_list_cdom.getInfo()\n",
    "\n",
    "# Convert dates to datetime objects\n",
    "dates = [datetime.datetime.strptime(date, '%Y-%m-%d') for date in date_list]\n",
    "\n",
    "# Create DataFrame with 'date' and 'CDOM' columns\n",
    "df = pd.DataFrame({'date': dates, 'CDOM': cdom_list})\n",
    "df"
   ]
  },
  {
   "cell_type": "code",
   "execution_count": null,
   "id": "8741e50e",
   "metadata": {},
   "outputs": [],
   "source": [
    "def station_mean(img):\n",
    "    mean = img.reduceRegion(reducer=ee.Reducer.mean(), geometry=lake, scale=30).get('CO')\n",
    "    return img.set('CDOM', mean)\n",
    "\n",
    "station_reduced_imgs = s2.map(station_mean)\n",
    "nested_list = station_reduced_imgs.aggregate_array('CDOM')\n",
    "df = pd.DataFrame(nested_list.getInfo(), columns=['CDOM'])\n"
   ]
  },
  {
   "cell_type": "code",
   "execution_count": null,
   "id": "ae3315a4",
   "metadata": {},
   "outputs": [],
   "source": [
    "pd.set_option('display.max_rows', None)\n",
    "\n",
    "df"
   ]
  },
  {
   "cell_type": "code",
   "execution_count": null,
   "id": "8ddc95a5",
   "metadata": {},
   "outputs": [],
   "source": [
    "df['date'] = pd.to_datetime(df['date'])\n",
    "\n",
    "# Format 'date' column to exclude the time\n",
    "df['date'] = df['date'].dt.date\n",
    "df"
   ]
  },
  {
   "cell_type": "code",
   "execution_count": null,
   "id": "634acc91",
   "metadata": {},
   "outputs": [],
   "source": [
    "import seaborn as sns\n",
    "import matplotlib.pyplot as plt\n",
    "import datetime as dt\n",
    "# Create a figure with subplots and set the dimensions to 15 x 7\n",
    "fig, ax = plt.subplots(figsize=(15, 7))\n",
    "\n",
    "# Create the plot by setting our dataframe to the data argument\n",
    "sns.scatterplot(data=df, x='date', y='CDOM', ax=ax)\n",
    "\n",
    "# Set the labels and title\n",
    "ax.set_ylabel('CDOM', fontsize=20)\n",
    "ax.set_xlabel('date', fontsize=20)\n",
    "ax.set_title('Cdom Values over Time', fontsize=20)\n",
    "ax.set_ylim(0,10)\n",
    "\n",
    "# Format the x-axis tick labels to display only the year\n",
    "# ax.xaxis.set_major_formatter(plt.FixedFormatter(df['date'].dt.year.unique()))\n",
    "\n",
    "# Display the plot\n",
    "plt.show()\n"
   ]
  },
  {
   "cell_type": "code",
   "execution_count": null,
   "id": "a789a9ac",
   "metadata": {},
   "outputs": [],
   "source": [
    "import seaborn as sns\n",
    "import matplotlib.pyplot as plt\n",
    "\n",
    "# Create a figure with two subplots side by side\n",
    "fig, (ax1, ax2) = plt.subplots(1, 2, figsize=(15, 7), sharex=True)\n",
    "\n",
    "# Seaborn scatter plot\n",
    "sns.scatterplot(data=data, x=data.index, y='DOC', ax=ax1)\n",
    "ax1.set_xlabel('DATE')\n",
    "ax1.set_ylabel('DOC')\n",
    "ax1.set_ylim(1,9)\n",
    "\n",
    "ax1.set_title('DOC Values Over Time')\n",
    "\n",
    "# Seaborn scatter plot\n",
    "sns.scatterplot(data=df, x='date', y='CDOM', ax=ax2)\n",
    "ax2.set_xlabel('DATE')\n",
    "ax2.set_ylabel('CDOM')\n",
    "ax2.set_ylim(0,10)\n",
    "ax2.set_title('CDOM Values Over Time')\n",
    "\n",
    "# Adjust the spacing between subplots\n",
    "plt.tight_layout()\n",
    "\n",
    "# Display the plot\n",
    "plt.show()\n"
   ]
  },
  {
   "cell_type": "code",
   "execution_count": null,
   "id": "5282ee8f",
   "metadata": {},
   "outputs": [],
   "source": [
    "import seaborn as sns\n",
    "import matplotlib.pyplot as plt\n",
    "\n",
    "# Create a figure and an Axes object\n",
    "fig, ax = plt.subplots(figsize=(15, 7))\n",
    "\n",
    "# Seaborn scatter plot for CDOM\n",
    "sns.scatterplot(data=df, x='date', y='CDOM', ax=ax, label='CDOM', color='blue')\n",
    "\n",
    "# Create a twin Axes object for DOC\n",
    "ax2 = ax.twinx()\n",
    "\n",
    "# Matplotlib scatter plot for DOC\n",
    "ax2.scatter(data.index, data['DOC'], label='DOC', color='red')\n",
    "\n",
    "# Set the labels and title\n",
    "ax.set_xlabel('DATE')\n",
    "ax.set_ylabel('CDOM', color='blue')\n",
    "ax2.set_ylabel('DOC', color='red')\n",
    "ax.set_title('CDOM vs DOC')\n",
    "\n",
    "# Set different ranges for the y-axes\n",
    "ax.set_ylim(4,10)  # Adjust the range for CDOM\n",
    "ax2.set_ylim(1, 9)  # Adjust the range for DOC\n",
    "\n",
    "# Add legends\n",
    "ax.legend(loc='upper left')\n",
    "ax2.legend(loc='upper right')\n",
    "\n",
    "# Display the plot\n",
    "plt.show()\n"
   ]
  },
  {
   "cell_type": "code",
   "execution_count": null,
   "id": "7b1f8083",
   "metadata": {},
   "outputs": [],
   "source": [
    "print(df['date'].dtype)\n"
   ]
  },
  {
   "cell_type": "code",
   "execution_count": null,
   "id": "fd9345b8",
   "metadata": {},
   "outputs": [],
   "source": [
    "import seaborn as sns\n",
    "import matplotlib.pyplot as plt\n",
    "import numpy as np\n",
    "import pandas as pd\n",
    "\n",
    "df['date'] = pd.to_datetime(df['date'])\n",
    "\n",
    "# Convert the date values to numeric format\n",
    "df['date_numeric'] = pd.to_numeric(df['date']).astype(float)\n",
    "data['index_numeric'] = pd.to_numeric(data.index).astype(float)\n",
    "\n",
    "# Create a figure and an Axes object\n",
    "fig, ax = plt.subplots(figsize=(15, 7))\n",
    "\n",
    "# Matplotlib scatter plot for CDOM\n",
    "ax.scatter(df['date'], df['CDOM'], label='CDOM', color='blue')\n",
    "\n",
    "# Create a twin Axes object for DOC\n",
    "ax2 = ax.twinx()\n",
    "\n",
    "# Matplotlib scatter plot for DOC\n",
    "ax2.scatter(data.index, data['DOC'], label='DOC', color='red')\n",
    "\n",
    "# Calculate the linear regression line for CDOM\n",
    "cdom_x = df['date_numeric']\n",
    "cdom_y = df['CDOM']\n",
    "cdom_slope, cdom_intercept = np.polyfit(cdom_x, cdom_y, 1)\n",
    "cdom_line = cdom_slope * cdom_x + cdom_intercept\n",
    "#ax.plot(df['date'], cdom_line, color='blue', label='CDOM Line Fit')\n",
    "\n",
    "# Calculate the linear regression line for DOC\n",
    "doc_x = data['index_numeric']\n",
    "doc_y = data['DOC']\n",
    "doc_slope, doc_intercept = np.polyfit(doc_x, doc_y, 1)\n",
    "doc_line = doc_slope * doc_x + doc_intercept\n",
    "ax2.plot(data.index, doc_line, color='red', label='DOC Line Fit')\n",
    "\n",
    "# Set the labels and title\n",
    "ax.set_xlabel('DATE')\n",
    "ax.set_ylabel('CDOM', color='blue')\n",
    "ax2.set_ylabel('DOC', color='red')\n",
    "ax.set_title('CDOM vs DOC')\n",
    "\n",
    "# Set different ranges for the y-axes\n",
    "ax.set_ylim(4, 10)  # Adjust the range for CDOM\n",
    "ax2.set_ylim(0, 10)  # Adjust the range for DOC\n",
    "\n",
    "# Add legends\n",
    "ax.legend(loc='upper left')\n",
    "ax2.legend(loc='upper right')\n",
    "\n",
    "# Display the plot\n",
    "plt.show()\n"
   ]
  },
  {
   "cell_type": "code",
   "execution_count": 179,
   "id": "d621acf7",
   "metadata": {},
   "outputs": [
    {
     "ename": "NameError",
     "evalue": "name 'data' is not defined",
     "output_type": "error",
     "traceback": [
      "\u001b[0;31m---------------------------------------------------------------------------\u001b[0m",
      "\u001b[0;31mNameError\u001b[0m                                 Traceback (most recent call last)",
      "Cell \u001b[0;32mIn[179], line 2\u001b[0m\n\u001b[1;32m      1\u001b[0m \u001b[38;5;66;03m# Sort the doc DataFrame by date in ascending order\u001b[39;00m\n\u001b[0;32m----> 2\u001b[0m data \u001b[38;5;241m=\u001b[39m \u001b[43mdata\u001b[49m\u001b[38;5;241m.\u001b[39msort_index()\n\u001b[1;32m      4\u001b[0m \u001b[38;5;66;03m# Sort the keys in the 'date' column of df(CDOM) in ascending order\u001b[39;00m\n\u001b[1;32m      5\u001b[0m df\u001b[38;5;241m.\u001b[39msort_values(\u001b[38;5;124m'\u001b[39m\u001b[38;5;124mdate\u001b[39m\u001b[38;5;124m'\u001b[39m, inplace\u001b[38;5;241m=\u001b[39m\u001b[38;5;28;01mTrue\u001b[39;00m)\n",
      "\u001b[0;31mNameError\u001b[0m: name 'data' is not defined"
     ]
    }
   ],
   "source": [
    "# Sort the doc DataFrame by date in ascending order\n",
    "data = data.sort_index()\n",
    "\n",
    "# Sort the keys in the 'date' column of df(CDOM) in ascending order\n",
    "df.sort_values('date', inplace=True)\n",
    "\n",
    "# Convert 'date' column in df(CDOM) to datetime dtype\n",
    "df['date'] = pd.to_datetime(df['date'])\n",
    "\n",
    "\n",
    "\n",
    "# Perform inner merge with seven-day window\n",
    "merged_inner1 = pd.merge_asof(df, data, left_on='date', right_on='date', tolerance=pd.Timedelta(days=3))\n",
    "\n",
    "#Get rid of the null values from doc\n",
    "merged_inner1 = merged_inner1.dropna()\n",
    "\n",
    "#print(merged_inner1)\n"
   ]
  },
  {
   "cell_type": "code",
   "execution_count": 180,
   "id": "36294280",
   "metadata": {},
   "outputs": [
    {
     "ename": "NameError",
     "evalue": "name 'merged_inner1' is not defined",
     "output_type": "error",
     "traceback": [
      "\u001b[0;31m---------------------------------------------------------------------------\u001b[0m",
      "\u001b[0;31mNameError\u001b[0m                                 Traceback (most recent call last)",
      "Cell \u001b[0;32mIn[180], line 2\u001b[0m\n\u001b[1;32m      1\u001b[0m \u001b[38;5;66;03m# Drop duplicate rows based on DOC column, keeping the first occurrence\u001b[39;00m\n\u001b[0;32m----> 2\u001b[0m merged_inner1 \u001b[38;5;241m=\u001b[39m \u001b[43mmerged_inner1\u001b[49m\u001b[38;5;241m.\u001b[39mdrop_duplicates(subset\u001b[38;5;241m=\u001b[39m[\u001b[38;5;124m'\u001b[39m\u001b[38;5;124mDOC\u001b[39m\u001b[38;5;124m'\u001b[39m])\n",
      "\u001b[0;31mNameError\u001b[0m: name 'merged_inner1' is not defined"
     ]
    }
   ],
   "source": [
    "# Drop duplicate rows based on DOC column, keeping the first occurrence\n",
    "merged_inner1 = merged_inner1.drop_duplicates(subset=['DOC'])\n",
    "\n",
    "# Print the updated DataFrame\n",
    "#print(merged_inner1)\n"
   ]
  },
  {
   "cell_type": "code",
   "execution_count": null,
   "id": "daf54f54",
   "metadata": {},
   "outputs": [],
   "source": [
    "import matplotlib.pyplot as plt\n",
    "\n",
    "# Plotting the scatter plot\n",
    "plt.scatter(merged_inner1['DOC'], merged_inner1['CDOM'])\n",
    "\n",
    "# Setting labels and title\n",
    "plt.xlabel('DOC')\n",
    "plt.ylabel('CDOM')\n",
    "plt.title('Big Moose Lake Scatter Plot of DOC and CDOM for 3 days')\n",
    "plt.ylim(4,10)\n",
    "# Displaying the plot\n",
    "plt.show()\n"
   ]
  },
  {
   "cell_type": "code",
   "execution_count": null,
   "id": "a5c2aa71",
   "metadata": {},
   "outputs": [],
   "source": [
    "# Sort the doc DataFrame by date in ascending order\n",
    "data = data.sort_index()\n",
    "\n",
    "# Sort the keys in the 'date' column of df(CDOM) in ascending order\n",
    "df.sort_values('date', inplace=True)\n",
    "\n",
    "# Convert 'date' column in df(CDOM) to datetime dtype\n",
    "df['date'] = pd.to_datetime(df['date'])\n",
    "\n",
    "\n",
    "\n",
    "# Perform inner merge with seven-day window\n",
    "merged_inner = pd.merge_asof(df, data, left_on='date', right_on='date', tolerance=pd.Timedelta(days=7))\n",
    "\n",
    "#Get rid of the null values from doc\n",
    "merged_inner = merged_inner.dropna()\n",
    "\n",
    "#print(merged_inner)\n"
   ]
  },
  {
   "cell_type": "code",
   "execution_count": null,
   "id": "e9f3467e",
   "metadata": {},
   "outputs": [],
   "source": [
    "# Drop duplicate rows based on DOC column, keeping the first occurrence\n",
    "merged_inner = merged_inner.drop_duplicates(subset=['DOC'])\n",
    "\n",
    "# Print the updated DataFrame\n",
    "#print(merged_inner)\n"
   ]
  },
  {
   "cell_type": "code",
   "execution_count": null,
   "id": "e6efa9c9",
   "metadata": {},
   "outputs": [],
   "source": [
    "import matplotlib.pyplot as plt\n",
    "import numpy as np\n",
    "\n",
    "plt.scatter(merged_inner['DOC'], merged_inner['CDOM'])\n",
    "# Setting labels and title\n",
    "plt.xlabel('DOC')\n",
    "plt.ylabel('CDOM')\n",
    "plt.title('BIG MOOSE LAKE Scatter Plot of DOC and CDOM for 7 days')\n",
    "plt.ylim(4,10)\n",
    "# Displaying the plot\n",
    "plt.show()\n",
    "\n"
   ]
  },
  {
   "cell_type": "code",
   "execution_count": null,
   "id": "7714be6a",
   "metadata": {},
   "outputs": [],
   "source": [
    "import seaborn as sns\n",
    "import matplotlib.pyplot as plt\n",
    "import datetime as dt\n",
    "# Create a figure with subplots and set the dimensions to 15 x 7\n",
    "fig, ax = plt.subplots(figsize=(15, 7))\n",
    "\n",
    "# Create the plot by setting our dataframe to the data argument\n",
    "sns.scatterplot(data=merged_inner, x='date', y='CDOM', ax=ax)\n",
    "\n",
    "# Set the labels and title\n",
    "ax.set_ylabel('CDOM', fontsize=20)\n",
    "ax.set_xlabel('date', fontsize=20)\n",
    "ax.set_title('Merged Cdom Values over 7 days', fontsize=20)\n",
    "ax.set_ylim(4,10)\n",
    "\n",
    "# Format the x-axis tick labels to display only the year\n",
    "# ax.xaxis.set_major_formatter(plt.FixedFormatter(df['date'].dt.year.unique()))\n",
    "\n",
    "# Display the plot\n",
    "plt.show()\n"
   ]
  },
  {
   "cell_type": "code",
   "execution_count": null,
   "id": "5989c22d",
   "metadata": {},
   "outputs": [],
   "source": [
    "import seaborn as sns\n",
    "import matplotlib.pyplot as plt\n",
    "\n",
    "# Create a figure and an Axes object\n",
    "fig, ax = plt.subplots(figsize=(15, 7))\n",
    "\n",
    "# Seaborn scatter plot for CDOM\n",
    "sns.scatterplot(data=merged_inner, x='date', y='CDOM', ax=ax, label='CDOM', color='blue')\n",
    "\n",
    "# Create a twin Axes object for DOC\n",
    "ax2 = ax.twinx()\n",
    "\n",
    "# Matplotlib scatter plot for DOC\n",
    "ax2.scatter(merged_inner['date'], merged_inner['DOC'], label='DOC', color='red')\n",
    "\n",
    "# Set the labels and title\n",
    "ax.set_xlabel('DATE')\n",
    "ax.set_ylabel('CDOM', color='blue')\n",
    "ax2.set_ylabel('DOC', color='red')\n",
    "ax.set_title('Merged CDOM vs DOC')\n",
    "\n",
    "# Set different ranges for the y-axes\n",
    "ax.set_ylim(4, 10)  # Adjust the range for CDOM\n",
    "ax2.set_ylim(0, 10)  # Adjust the range for DOC\n",
    "\n",
    "# Add legends\n",
    "ax.legend(loc='upper left')\n",
    "ax2.legend(loc='upper right')\n",
    "\n",
    "# Display the plot\n",
    "plt.show()\n"
   ]
  },
  {
   "cell_type": "code",
   "execution_count": null,
   "id": "a64e4301",
   "metadata": {},
   "outputs": [],
   "source": [
    "import seaborn as sns\n",
    "import matplotlib.pyplot as plt\n",
    "import numpy as np\n",
    "import pandas as pd\n",
    "\n",
    "# Convert the date values to numeric format\n",
    "merged_inner['date_numeric'] = pd.to_numeric(merged_inner['date']).astype(float)\n",
    "\n",
    "# Create a figure and an Axes object\n",
    "fig, ax = plt.subplots(figsize=(15, 7))\n",
    "\n",
    "# Matplotlib scatter plot \n",
    "ax.scatter(merged_inner['date'], merged_inner['CDOM'], label='CDOM', color='blue')\n",
    "\n",
    "\n",
    "# Create a twin Axes object for DOC\n",
    "ax2 = ax.twinx()\n",
    "ax2.scatter(merged_inner['date'], merged_inner['DOC'], label='DOC', color='red')\n",
    "\n",
    "\n",
    "# Calculate the linear regression line for CDOM\n",
    "cdom_x = merged_inner['date_numeric']\n",
    "cdom_y = merged_inner['CDOM']\n",
    "cdom_slope, cdom_intercept = np.polyfit(cdom_x, cdom_y, 1)\n",
    "cdom_line = cdom_slope * cdom_x + cdom_intercept\n",
    "#ax.plot(merged_inner['date'], cdom_line, color='blue', label='CDOM Line Fit')\n",
    "\n",
    "# Calculate the linear regression line for DOC\n",
    "doc_x = merged_inner['date_numeric']\n",
    "doc_y = merged_inner['DOC']\n",
    "doc_slope, doc_intercept = np.polyfit(doc_x, doc_y, 1)\n",
    "doc_line = doc_slope * doc_x + doc_intercept\n",
    "ax2.plot(merged_inner['date'], doc_line, color='red', label='DOC Line Fit')\n",
    "\n",
    "# Set the labels and title\n",
    "ax.set_xlabel('DATE')\n",
    "ax.set_ylabel('CDOM', color='blue')\n",
    "ax2.set_ylabel('DOC', color='red')\n",
    "ax.set_title('Merged CDOM vs DOC for 7 days')\n",
    "\n",
    "# Set different ranges for the y-axes\n",
    "ax.set_ylim(4, 10)  # Adjust the range for CDOM\n",
    "ax2.set_ylim(0, 10)  # Adjust the range for DOC\n",
    "\n",
    "# Add legends\n",
    "ax.legend(loc='upper left')\n",
    "ax2.legend(loc='upper right')\n",
    "\n",
    "# Display the plot\n",
    "plt.show()\n"
   ]
  },
  {
   "cell_type": "code",
   "execution_count": null,
   "id": "494694af",
   "metadata": {},
   "outputs": [],
   "source": []
  },
  {
   "cell_type": "code",
   "execution_count": null,
   "id": "2923e7e4",
   "metadata": {},
   "outputs": [],
   "source": []
  },
  {
   "cell_type": "code",
   "execution_count": null,
   "id": "72b575e9",
   "metadata": {},
   "outputs": [],
   "source": []
  },
  {
   "cell_type": "code",
   "execution_count": null,
   "id": "5fad6f0c",
   "metadata": {},
   "outputs": [],
   "source": []
  }
 ],
 "metadata": {
  "kernelspec": {
   "display_name": "Python 3 (ipykernel)",
   "language": "python",
   "name": "python3"
  },
  "language_info": {
   "codemirror_mode": {
    "name": "ipython",
    "version": 3
   },
   "file_extension": ".py",
   "mimetype": "text/x-python",
   "name": "python",
   "nbconvert_exporter": "python",
   "pygments_lexer": "ipython3",
   "version": "3.10.9"
  }
 },
 "nbformat": 4,
 "nbformat_minor": 5
}
